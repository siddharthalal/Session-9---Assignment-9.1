{
 "cells": [
  {
   "cell_type": "code",
   "execution_count": 1,
   "metadata": {},
   "outputs": [],
   "source": [
    "import pandas as pd\n",
    "import numpy as np\n",
    "import warnings\n",
    "\n",
    "warnings.filterwarnings(\"ignore\")"
   ]
  },
  {
   "cell_type": "markdown",
   "metadata": {},
   "source": [
    "1) Create a DatetimeIndex that contains each business day of 2015 and use it to index a series of random numbers."
   ]
  },
  {
   "cell_type": "code",
   "execution_count": 2,
   "metadata": {},
   "outputs": [
    {
     "name": "stdout",
     "output_type": "stream",
     "text": [
      "The series of randon numbers with date range as index is:\n",
      "\n",
      " 2015-01-01   -0.557494\n",
      "2015-01-02    1.099049\n",
      "2015-01-05    0.044218\n",
      "2015-01-06   -0.524353\n",
      "2015-01-07   -1.291977\n",
      "2015-01-08   -0.551816\n",
      "2015-01-09   -0.437003\n",
      "2015-01-12   -0.074043\n",
      "2015-01-13    0.420868\n",
      "2015-01-14    0.313858\n",
      "2015-01-15   -0.800430\n",
      "2015-01-16    0.406010\n",
      "2015-01-19    1.289970\n",
      "2015-01-20    0.775630\n",
      "2015-01-21   -1.598239\n",
      "2015-01-22    2.063862\n",
      "2015-01-23   -2.060347\n",
      "2015-01-26   -0.636721\n",
      "2015-01-27   -0.758077\n",
      "2015-01-28   -0.637188\n",
      "2015-01-29   -0.639422\n",
      "2015-01-30   -1.309731\n",
      "2015-02-02    0.789871\n",
      "2015-02-03   -1.616291\n",
      "2015-02-04   -1.564109\n",
      "2015-02-05    0.699906\n",
      "2015-02-06   -0.385083\n",
      "2015-02-09   -0.856873\n",
      "2015-02-10   -2.423110\n",
      "2015-02-11    0.092369\n",
      "                ...   \n",
      "2015-11-20    0.045965\n",
      "2015-11-23    1.362478\n",
      "2015-11-24   -0.277416\n",
      "2015-11-25    0.659037\n",
      "2015-11-26   -1.254219\n",
      "2015-11-27   -0.843178\n",
      "2015-11-30   -0.177006\n",
      "2015-12-01    0.703380\n",
      "2015-12-02   -0.513762\n",
      "2015-12-03    1.159061\n",
      "2015-12-04    0.146015\n",
      "2015-12-07   -1.018218\n",
      "2015-12-08   -1.419486\n",
      "2015-12-09    0.226308\n",
      "2015-12-10    0.308842\n",
      "2015-12-11    0.023992\n",
      "2015-12-14   -0.967043\n",
      "2015-12-15    0.985499\n",
      "2015-12-16   -0.348386\n",
      "2015-12-17   -0.231161\n",
      "2015-12-18    2.069825\n",
      "2015-12-21    1.566555\n",
      "2015-12-22    0.464952\n",
      "2015-12-23    1.302795\n",
      "2015-12-24   -0.559861\n",
      "2015-12-25   -0.811852\n",
      "2015-12-28   -0.977005\n",
      "2015-12-29    0.072154\n",
      "2015-12-30    1.005988\n",
      "2015-12-31   -1.221688\n",
      "Freq: B, Length: 261, dtype: float64 \n",
      "\n"
     ]
    }
   ],
   "source": [
    "### use pandas date range function to generate the required date range ###\n",
    "\n",
    "date_range_y2015_bd = pd.date_range('1/1/2015', '12/31/2015', freq='B') ### frequency 'B' for getting only business days\n",
    "\n",
    "### pd Series: data = range of random numbers, index = date range ### \n",
    "\n",
    "series_randn_dtrng_index = pd.Series(np.random.randn(date_range_y2015_bd.size), index=date_range_y2015_bd)\n",
    "\n",
    "print(\"The series of randon numbers with date range as index is:\\n\\n\", series_randn_dtrng_index, \"\\n\")"
   ]
  },
  {
   "cell_type": "markdown",
   "metadata": {},
   "source": [
    "2) Find the sum of the values in the DatetimeIndex for every Wednesday"
   ]
  },
  {
   "cell_type": "code",
   "execution_count": 3,
   "metadata": {},
   "outputs": [
    {
     "name": "stdout",
     "output_type": "stream",
     "text": [
      "The sum of the values in the series for every Wednesday is: -2.505866840531735 \n",
      "\n"
     ]
    }
   ],
   "source": [
    "### Search for wed using date index.weekday == 2 (0 == Mon, 1 == Tue ... and so on) ###\n",
    "\n",
    "sum_wed = series_randn_dtrng_index.loc[series_randn_dtrng_index.index.weekday==2].sum()\n",
    "\n",
    "print(\"The sum of the values in the series for every Wednesday is:\", sum_wed, \"\\n\")"
   ]
  },
  {
   "cell_type": "markdown",
   "metadata": {},
   "source": [
    "3) Find average For each calendar month"
   ]
  },
  {
   "cell_type": "code",
   "execution_count": 4,
   "metadata": {},
   "outputs": [
    {
     "name": "stdout",
     "output_type": "stream",
     "text": [
      "Average for each calendar month:\n",
      "\n",
      " 2015-01-31   -0.248335\n",
      "2015-02-28   -0.413505\n",
      "2015-03-31    0.500373\n",
      "2015-04-30   -0.117223\n",
      "2015-05-31   -0.087485\n",
      "2015-06-30    0.221789\n",
      "2015-07-31   -0.172630\n",
      "2015-08-31    0.039138\n",
      "2015-09-30    0.044967\n",
      "2015-10-31    0.063644\n",
      "2015-11-30    0.237590\n",
      "2015-12-31    0.085518\n",
      "Freq: M, dtype: float64 \n",
      "\n"
     ]
    }
   ],
   "source": [
    "### resample the series by month and calculate simple mean ###\n",
    "\n",
    "series_avg_each_month = series_randn_dtrng_index.resample('M').mean()\n",
    "\n",
    "print(\"Average for each calendar month:\\n\\n\", series_avg_each_month, \"\\n\")"
   ]
  },
  {
   "cell_type": "markdown",
   "metadata": {},
   "source": [
    "4) For each group of four consecutive calendar months in s, find the date on which the highest value occurred."
   ]
  },
  {
   "cell_type": "code",
   "execution_count": 5,
   "metadata": {},
   "outputs": [
    {
     "name": "stdout",
     "output_type": "stream",
     "text": [
      "The dates in four consecutive months where the highest value occurred are 2015-03-20, 2015-08-07 and 2015-09-07\n"
     ]
    }
   ],
   "source": [
    "max_idx = series_randn_dtrng_index.resample('4M', closed='left').agg({np.argmax})\n",
    "\n",
    "print(\"The dates in four consecutive months where the highest value occurred are {:%Y-%m-%d}, {:%Y-%m-%d} and {:%Y-%m-%d}\".format(max_idx.argmax[0], max_idx.argmax[1], max_idx.argmax[2]))\n"
   ]
  }
 ],
 "metadata": {
  "kernelspec": {
   "display_name": "Python 3",
   "language": "python",
   "name": "python3"
  },
  "language_info": {
   "codemirror_mode": {
    "name": "ipython",
    "version": 3
   },
   "file_extension": ".py",
   "mimetype": "text/x-python",
   "name": "python",
   "nbconvert_exporter": "python",
   "pygments_lexer": "ipython3",
   "version": "3.6.5"
  }
 },
 "nbformat": 4,
 "nbformat_minor": 2
}
