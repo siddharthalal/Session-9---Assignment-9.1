{
 "cells": [
  {
   "cell_type": "code",
   "execution_count": 1,
   "metadata": {},
   "outputs": [],
   "source": [
    "import pandas as pd\n",
    "import numpy as np\n",
    "import warnings\n",
    "\n",
    "warnings.filterwarnings(\"ignore\")"
   ]
  },
  {
   "cell_type": "markdown",
   "metadata": {},
   "source": [
    "#### 1) Create a DatetimeIndex that contains each business day of 2015 and use it to index a series of random numbers."
   ]
  },
  {
   "cell_type": "code",
   "execution_count": 2,
   "metadata": {},
   "outputs": [
    {
     "name": "stdout",
     "output_type": "stream",
     "text": [
      "The series of randon numbers with date range as index is:\n",
      "\n",
      " 2015-01-01   -0.315917\n",
      "2015-01-02   -0.544044\n",
      "2015-01-05    1.982792\n",
      "2015-01-06   -0.795343\n",
      "2015-01-07   -0.731180\n",
      "2015-01-08    1.586584\n",
      "2015-01-09   -0.515724\n",
      "2015-01-12   -0.996472\n",
      "2015-01-13    0.231036\n",
      "2015-01-14   -0.728979\n",
      "2015-01-15   -0.469139\n",
      "2015-01-16   -1.104141\n",
      "2015-01-19    2.212997\n",
      "2015-01-20   -0.428317\n",
      "2015-01-21    1.691516\n",
      "2015-01-22    0.905906\n",
      "2015-01-23   -0.780699\n",
      "2015-01-26   -0.558673\n",
      "2015-01-27   -0.544003\n",
      "2015-01-28    0.932076\n",
      "2015-01-29   -0.505812\n",
      "2015-01-30    0.645948\n",
      "2015-02-02    1.499206\n",
      "2015-02-03    0.653893\n",
      "2015-02-04   -0.327566\n",
      "2015-02-05    0.783327\n",
      "2015-02-06    1.254133\n",
      "2015-02-09    0.858950\n",
      "2015-02-10   -0.256723\n",
      "2015-02-11   -0.472416\n",
      "                ...   \n",
      "2015-11-20   -0.061900\n",
      "2015-11-23    2.656302\n",
      "2015-11-24    0.478339\n",
      "2015-11-25   -1.880717\n",
      "2015-11-26    1.546897\n",
      "2015-11-27    0.180944\n",
      "2015-11-30   -0.810856\n",
      "2015-12-01   -0.328115\n",
      "2015-12-02    0.461981\n",
      "2015-12-03    0.120449\n",
      "2015-12-04    0.197053\n",
      "2015-12-07    0.720944\n",
      "2015-12-08    1.064491\n",
      "2015-12-09   -0.255594\n",
      "2015-12-10    0.434845\n",
      "2015-12-11   -0.427159\n",
      "2015-12-14   -0.734661\n",
      "2015-12-15    1.803808\n",
      "2015-12-16   -0.934523\n",
      "2015-12-17    0.719600\n",
      "2015-12-18   -1.055940\n",
      "2015-12-21   -1.142806\n",
      "2015-12-22    1.747157\n",
      "2015-12-23    0.036607\n",
      "2015-12-24   -1.330785\n",
      "2015-12-25    0.288314\n",
      "2015-12-28    0.460793\n",
      "2015-12-29   -0.917639\n",
      "2015-12-30   -0.459924\n",
      "2015-12-31   -1.791675\n",
      "Freq: B, Length: 261, dtype: float64 \n",
      "\n"
     ]
    }
   ],
   "source": [
    "### use pandas date range function to generate the required date range ###\n",
    "\n",
    "date_range_y2015_bd = pd.date_range('1/1/2015', '12/31/2015', freq='B') ### frequency 'B' for getting only business days\n",
    "\n",
    "### pd Series: data = range of random numbers, index = date range ### \n",
    "\n",
    "series_randn_dtrng_index = pd.Series(np.random.randn(date_range_y2015_bd.size), index=date_range_y2015_bd)\n",
    "\n",
    "print(\"The series of randon numbers with date range as index is:\\n\\n\", series_randn_dtrng_index, \"\\n\")"
   ]
  },
  {
   "cell_type": "markdown",
   "metadata": {},
   "source": [
    "#### 2) Find the sum of the values in the DatetimeIndex for every Wednesday"
   ]
  },
  {
   "cell_type": "code",
   "execution_count": 3,
   "metadata": {},
   "outputs": [
    {
     "name": "stdout",
     "output_type": "stream",
     "text": [
      "The sum of the values in the series for every Wednesday is: -8.471665971342924 \n",
      "\n"
     ]
    }
   ],
   "source": [
    "### Search for wed using date index.weekday == 2 (0 == Mon, 1 == Tue ... and so on) ###\n",
    "\n",
    "sum_wed = series_randn_dtrng_index.loc[series_randn_dtrng_index.index.weekday==2].sum()\n",
    "\n",
    "print(\"The sum of the values in the series for every Wednesday is:\", sum_wed, \"\\n\")"
   ]
  },
  {
   "cell_type": "markdown",
   "metadata": {},
   "source": [
    "#### 3) Find average For each calendar month"
   ]
  },
  {
   "cell_type": "code",
   "execution_count": 4,
   "metadata": {},
   "outputs": [
    {
     "name": "stdout",
     "output_type": "stream",
     "text": [
      "Average for each calendar month:\n",
      "\n",
      " 2015-01-31    0.053201\n",
      "2015-02-28    0.153560\n",
      "2015-03-31   -0.184160\n",
      "2015-04-30    0.286650\n",
      "2015-05-31   -0.155771\n",
      "2015-06-30    0.108878\n",
      "2015-07-31   -0.235282\n",
      "2015-08-31   -0.087905\n",
      "2015-09-30    0.120913\n",
      "2015-10-31    0.122234\n",
      "2015-11-30   -0.253769\n",
      "2015-12-31   -0.057512\n",
      "Freq: M, dtype: float64 \n",
      "\n"
     ]
    }
   ],
   "source": [
    "### resample the series by month and calculate simple mean ###\n",
    "\n",
    "series_avg_each_month = series_randn_dtrng_index.resample('M').mean()\n",
    "\n",
    "print(\"Average for each calendar month:\\n\\n\", series_avg_each_month, \"\\n\")"
   ]
  },
  {
   "cell_type": "markdown",
   "metadata": {},
   "source": [
    "#### 4) For each group of four consecutive calendar months in s, find the date on which the highest value occurred."
   ]
  },
  {
   "cell_type": "code",
   "execution_count": 5,
   "metadata": {},
   "outputs": [
    {
     "name": "stdout",
     "output_type": "stream",
     "text": [
      "The dates in four consecutive months where the highest value occurred are 2015-04-06, 2015-06-02 and 2015-11-23\n"
     ]
    }
   ],
   "source": [
    "max_idx = series_randn_dtrng_index.resample('4M', closed='left').agg({np.argmax})\n",
    "\n",
    "print(\"The dates in four consecutive months where the highest value occurred are {:%Y-%m-%d}, {:%Y-%m-%d} and {:%Y-%m-%d}\".format(max_idx.argmax[0], max_idx.argmax[1], max_idx.argmax[2]))\n"
   ]
  },
  {
   "cell_type": "markdown",
   "metadata": {},
   "source": [
    "#### 5) Read the dataset from the below link\n",
    "\n",
    "us_baby_names_df = pd.read_csv('https://raw.githubusercontent.com/guipsamora/pandas_exercises/master/06_Stats/US_Baby_Names/US_Baby_Names_right.csv')"
   ]
  },
  {
   "cell_type": "code",
   "execution_count": 6,
   "metadata": {},
   "outputs": [],
   "source": [
    "us_baby_names_df = pd.read_csv('https://raw.githubusercontent.com/guipsamora/pandas_exercises/master/06_Stats/US_Baby_Names/US_Baby_Names_right.csv')"
   ]
  },
  {
   "cell_type": "markdown",
   "metadata": {},
   "source": [
    "#### 6) Delete all un-named columns"
   ]
  },
  {
   "cell_type": "code",
   "execution_count": 7,
   "metadata": {},
   "outputs": [
    {
     "data": {
      "text/html": [
       "<div>\n",
       "<style scoped>\n",
       "    .dataframe tbody tr th:only-of-type {\n",
       "        vertical-align: middle;\n",
       "    }\n",
       "\n",
       "    .dataframe tbody tr th {\n",
       "        vertical-align: top;\n",
       "    }\n",
       "\n",
       "    .dataframe thead th {\n",
       "        text-align: right;\n",
       "    }\n",
       "</style>\n",
       "<table border=\"1\" class=\"dataframe\">\n",
       "  <thead>\n",
       "    <tr style=\"text-align: right;\">\n",
       "      <th></th>\n",
       "      <th>Id</th>\n",
       "      <th>Name</th>\n",
       "      <th>Year</th>\n",
       "      <th>Gender</th>\n",
       "      <th>State</th>\n",
       "      <th>Count</th>\n",
       "    </tr>\n",
       "  </thead>\n",
       "  <tbody>\n",
       "    <tr>\n",
       "      <th>0</th>\n",
       "      <td>11350</td>\n",
       "      <td>Emma</td>\n",
       "      <td>2004</td>\n",
       "      <td>F</td>\n",
       "      <td>AK</td>\n",
       "      <td>62</td>\n",
       "    </tr>\n",
       "    <tr>\n",
       "      <th>1</th>\n",
       "      <td>11351</td>\n",
       "      <td>Madison</td>\n",
       "      <td>2004</td>\n",
       "      <td>F</td>\n",
       "      <td>AK</td>\n",
       "      <td>48</td>\n",
       "    </tr>\n",
       "    <tr>\n",
       "      <th>2</th>\n",
       "      <td>11352</td>\n",
       "      <td>Hannah</td>\n",
       "      <td>2004</td>\n",
       "      <td>F</td>\n",
       "      <td>AK</td>\n",
       "      <td>46</td>\n",
       "    </tr>\n",
       "    <tr>\n",
       "      <th>3</th>\n",
       "      <td>11353</td>\n",
       "      <td>Grace</td>\n",
       "      <td>2004</td>\n",
       "      <td>F</td>\n",
       "      <td>AK</td>\n",
       "      <td>44</td>\n",
       "    </tr>\n",
       "    <tr>\n",
       "      <th>4</th>\n",
       "      <td>11354</td>\n",
       "      <td>Emily</td>\n",
       "      <td>2004</td>\n",
       "      <td>F</td>\n",
       "      <td>AK</td>\n",
       "      <td>41</td>\n",
       "    </tr>\n",
       "  </tbody>\n",
       "</table>\n",
       "</div>"
      ],
      "text/plain": [
       "      Id     Name  Year Gender State  Count\n",
       "0  11350     Emma  2004      F    AK     62\n",
       "1  11351  Madison  2004      F    AK     48\n",
       "2  11352   Hannah  2004      F    AK     46\n",
       "3  11353    Grace  2004      F    AK     44\n",
       "4  11354    Emily  2004      F    AK     41"
      ]
     },
     "execution_count": 7,
     "metadata": {},
     "output_type": "execute_result"
    }
   ],
   "source": [
    "us_baby_names_df.drop(us_baby_names_df.loc[:, us_baby_names_df.columns.str.contains('^Unnamed')], axis=1, inplace=True)\n",
    "\n",
    "us_baby_names_df.head(5)"
   ]
  },
  {
   "cell_type": "markdown",
   "metadata": {},
   "source": [
    "#### 7) Show gender wise distribution"
   ]
  },
  {
   "cell_type": "code",
   "execution_count": 8,
   "metadata": {},
   "outputs": [
    {
     "data": {
      "text/plain": [
       "F    558846\n",
       "M    457549\n",
       "Name: Gender, dtype: int64"
      ]
     },
     "execution_count": 8,
     "metadata": {},
     "output_type": "execute_result"
    }
   ],
   "source": [
    "us_baby_names_df.Gender.value_counts()"
   ]
  },
  {
   "cell_type": "markdown",
   "metadata": {},
   "source": [
    "#### 8) Show the top 5 most preferred names"
   ]
  },
  {
   "cell_type": "code",
   "execution_count": 9,
   "metadata": {},
   "outputs": [
    {
     "data": {
      "text/plain": [
       "Name\n",
       "Jacob       242874\n",
       "Emma        214852\n",
       "Michael     214405\n",
       "Ethan       209277\n",
       "Isabella    204798\n",
       "Name: Count, dtype: int64"
      ]
     },
     "execution_count": 9,
     "metadata": {},
     "output_type": "execute_result"
    }
   ],
   "source": [
    "us_baby_names_df.groupby(['Name'])['Count'].sum().nlargest(5)"
   ]
  },
  {
   "cell_type": "markdown",
   "metadata": {},
   "source": [
    "#### 9) median name occurence in the dataset"
   ]
  },
  {
   "cell_type": "code",
   "execution_count": 10,
   "metadata": {},
   "outputs": [
    {
     "data": {
      "text/plain": [
       "508197    Kasey\n",
       "Name: Name, dtype: object"
      ]
     },
     "execution_count": 10,
     "metadata": {},
     "output_type": "execute_result"
    }
   ],
   "source": [
    "us_baby_names_df[us_baby_names_df.Id == us_baby_names_df.median().Id]['Name']"
   ]
  },
  {
   "cell_type": "markdown",
   "metadata": {},
   "source": [
    "#### 10) Distribution of male and female born count by states"
   ]
  },
  {
   "cell_type": "code",
   "execution_count": 11,
   "metadata": {},
   "outputs": [
    {
     "data": {
      "text/plain": [
       "State  Gender\n",
       "AK     F           26250\n",
       "       M           37399\n",
       "AL     F          215308\n",
       "       M          260114\n",
       "AR     F          129712\n",
       "       M          162947\n",
       "AZ     F          368567\n",
       "       M          439691\n",
       "CA     F         2414063\n",
       "       M         2670584\n",
       "CO     F          260805\n",
       "       M          313425\n",
       "CT     F          141350\n",
       "       M          171397\n",
       "DC     F           35276\n",
       "       M           47228\n",
       "DE     F           31312\n",
       "       M           41748\n",
       "FL     F          915422\n",
       "       M         1060957\n",
       "GA     F          549637\n",
       "       M          635531\n",
       "HI     F           37279\n",
       "       M           53127\n",
       "IA     F          144764\n",
       "       M          174009\n",
       "ID     F           72808\n",
       "       M           94320\n",
       "IL     F          695312\n",
       "       M          791679\n",
       "                  ...   \n",
       "OK     F          184967\n",
       "       M          228613\n",
       "OR     F          172111\n",
       "       M          209445\n",
       "PA     F          593382\n",
       "       M          682709\n",
       "RI     F           35560\n",
       "       M           47939\n",
       "SC     F          197917\n",
       "       M          237442\n",
       "SD     F           34104\n",
       "       M           45443\n",
       "TN     F          336487\n",
       "       M          398615\n",
       "TX     F         1786281\n",
       "       M         2005394\n",
       "UT     F          202892\n",
       "       M          245324\n",
       "VA     F          405503\n",
       "       M          466873\n",
       "VT     F           15079\n",
       "       M           21353\n",
       "WA     F          334944\n",
       "       M          395377\n",
       "WI     F          264921\n",
       "       M          311758\n",
       "WV     F           73800\n",
       "       M           93557\n",
       "WY     F           14107\n",
       "       M           21912\n",
       "Name: Count, Length: 102, dtype: int64"
      ]
     },
     "execution_count": 11,
     "metadata": {},
     "output_type": "execute_result"
    }
   ],
   "source": [
    "us_baby_names_df.groupby(['State','Gender'])['Count'].sum()"
   ]
  }
 ],
 "metadata": {
  "kernelspec": {
   "display_name": "Python 3",
   "language": "python",
   "name": "python3"
  },
  "language_info": {
   "codemirror_mode": {
    "name": "ipython",
    "version": 3
   },
   "file_extension": ".py",
   "mimetype": "text/x-python",
   "name": "python",
   "nbconvert_exporter": "python",
   "pygments_lexer": "ipython3",
   "version": "3.6.5"
  }
 },
 "nbformat": 4,
 "nbformat_minor": 2
}
